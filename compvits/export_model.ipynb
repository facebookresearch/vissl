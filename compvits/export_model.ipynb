{
 "cells": [
  {
   "cell_type": "code",
   "execution_count": null,
   "metadata": {
    "pycharm": {
     "name": "#%%\n"
    }
   },
   "outputs": [],
   "source": [
    "import torch\n",
    "from collections import OrderedDict"
   ]
  },
  {
   "cell_type": "code",
   "execution_count": null,
   "metadata": {
    "pycharm": {
     "name": "#%%\n"
    }
   },
   "outputs": [],
   "source": [
    "### Deit 3"
   ]
  },
  {
   "cell_type": "code",
   "execution_count": null,
   "metadata": {
    "pycharm": {
     "name": "#%%\n"
    }
   },
   "outputs": [],
   "source": [
    "checkpoint = torch.hub.load_state_dict_from_url(\"https://dl.fbaipublicfiles.com/deit/deit_3_base_224_1k.pth\", map_location='cpu', check_hash=True)\n",
    "new_checkpoint = []\n",
    "for k in checkpoint[\"model\"]:\n",
    "    if not k.startswith(\"head.\"):\n",
    "        new_k = \"trunk.\"+k\n",
    "        new_checkpoint.append([new_k, checkpoint[\"model\"][k]])\n",
    "    else:\n",
    "        new_k = \"heads.0.clf.0.\"+k[len(\"head.\"):]\n",
    "        new_checkpoint.append([new_k, checkpoint[\"model\"][k]])\n",
    "\n",
    "new_checkpoint = OrderedDict(new_checkpoint)"
   ]
  },
  {
   "cell_type": "code",
   "execution_count": null,
   "metadata": {
    "pycharm": {
     "name": "#%%\n"
    }
   },
   "outputs": [],
   "source": [
    "new_checkpoint.keys()"
   ]
  },
  {
   "cell_type": "code",
   "execution_count": null,
   "metadata": {
    "pycharm": {
     "name": "#%%\n"
    }
   },
   "outputs": [],
   "source": [
    "save = {\"model\": new_checkpoint}\n",
    "torch.save(save, \"../checkpoints/deitb.pth\") #deit has already trained head on in1k, so we export it flat, into 'checkpoints' directory"
   ]
  },
  {
   "cell_type": "markdown",
   "metadata": {
    "collapsed": false,
    "pycharm": {
     "name": "#%% md\n"
    }
   },
   "source": [
    "### iBot"
   ]
  },
  {
   "cell_type": "code",
   "execution_count": null,
   "metadata": {
    "pycharm": {
     "name": "#%%\n"
    }
   },
   "outputs": [],
   "source": [
    "checkpoint = torch.hub.load_state_dict_from_url(\"https://lf3-nlp-opensource.bytetos.com/obj/nlp-opensource/archive/2022/ibot/vitb_16/checkpoint_teacher.pth\", map_location='cpu', check_hash=True)\n",
    "new_checkpoint = []\n",
    "for k in checkpoint[\"state_dict\"]:    \n",
    "    new_k = \"trunk.\"+k\n",
    "    new_checkpoint.append([new_k, checkpoint[\"state_dict\"][k]])\n",
    "    \n",
    "new_checkpoint = OrderedDict(new_checkpoint)"
   ]
  },
  {
   "cell_type": "code",
   "execution_count": null,
   "metadata": {
    "pycharm": {
     "name": "#%%\n"
    }
   },
   "outputs": [],
   "source": [
    "new_checkpoint.keys()"
   ]
  },
  {
   "cell_type": "code",
   "execution_count": null,
   "metadata": {
    "pycharm": {
     "name": "#%%\n"
    }
   },
   "outputs": [],
   "source": [
    "save = {\"model\": new_checkpoint}\n",
    "torch.save(save, \"../checkpoints/trunk_only/ibotb.pth\") #we use only trunks of ssl models, so we export it into 'checkpoints/trunk_only' directory\n"
   ]
  },
  {
   "cell_type": "markdown",
   "metadata": {
    "collapsed": false,
    "pycharm": {
     "name": "#%% md\n"
    }
   },
   "source": [
    "### DINO ViT/16\n"
   ]
  },
  {
   "cell_type": "code",
   "execution_count": null,
   "metadata": {
    "pycharm": {
     "name": "#%%\n"
    }
   },
   "outputs": [],
   "source": [
    "checkpoint = torch.hub.load_state_dict_from_url('https://dl.fbaipublicfiles.com/dino/dino_vitbase16_pretrain/dino_vitbase16_pretrain.pth', map_location='cpu', check_hash=True)\n",
    "\n",
    "new_checkpoint = []\n",
    "\n",
    "for k in checkpoint:\n",
    "    if not k.startswith(\"head.\"):\n",
    "        new_k = \"trunk.\"+k\n",
    "        new_checkpoint.append([new_k, checkpoint[k]])\n",
    "    else:\n",
    "        new_k = \"heads.0.clf.0.\"+k[len(\"head.\"):]\n",
    "        new_checkpoint.append([new_k, checkpoint[k]])\n",
    "\n",
    "new_checkpoint = OrderedDict(new_checkpoint)"
   ]
  },
  {
   "cell_type": "code",
   "execution_count": null,
   "metadata": {
    "pycharm": {
     "name": "#%%\n"
    }
   },
   "outputs": [],
   "source": [
    "new_checkpoint.keys()"
   ]
  },
  {
   "cell_type": "code",
   "execution_count": null,
   "metadata": {
    "pycharm": {
     "name": "#%%\n"
    }
   },
   "outputs": [],
   "source": [
    "save = {\"model\": new_checkpoint}\n",
    "torch.save(save, \"../checkpoints/dino.pth\")"
   ]
  },
  {
   "cell_type": "markdown",
   "metadata": {
    "collapsed": false,
    "pycharm": {
     "name": "#%% md\n"
    }
   },
   "source": [
    "### Supervised ViT/16\n"
   ]
  },
  {
   "cell_type": "code",
   "execution_count": null,
   "metadata": {
    "pycharm": {
     "name": "#%%\n"
    }
   },
   "outputs": [],
   "source": [
    "checkpoint = torch.hub.load_state_dict_from_url('https://github.com/rwightman/pytorch-image-models/releases/download/v0.1-vitjx/jx_vit_base_p16_224-80ecf9dd.pth', map_location='cpu', check_hash=True)\n",
    "\n",
    "new_checkpoint = []\n",
    "\n",
    "for k in checkpoint:\n",
    "    if not k.startswith(\"head.\"):\n",
    "        new_k = \"trunk.\"+k\n",
    "        new_checkpoint.append([new_k, checkpoint[k]])\n",
    "    else:\n",
    "        new_k = \"heads.0.clf.0.\"+k[len(\"head.\"):]\n",
    "        new_checkpoint.append([new_k, checkpoint[k]])\n",
    "\n",
    "new_checkpoint = OrderedDict(new_checkpoint)"
   ]
  },
  {
   "cell_type": "code",
   "execution_count": null,
   "metadata": {
    "pycharm": {
     "name": "#%%\n"
    }
   },
   "outputs": [],
   "source": [
    "new_checkpoint.keys()"
   ]
  },
  {
   "cell_type": "code",
   "execution_count": null,
   "metadata": {
    "pycharm": {
     "name": "#%%\n"
    }
   },
   "outputs": [],
   "source": [
    "save = {\"model\": new_checkpoint}\n",
    "torch.save(save, \"../checkpoints/vit_supervised.pth\")"
   ]
  },
  {
   "cell_type": "code",
   "execution_count": null,
   "metadata": {
    "pycharm": {
     "name": "#%%\n"
    }
   },
   "outputs": [],
   "source": []
  },
  {
   "cell_type": "markdown",
   "metadata": {
    "collapsed": false,
    "pycharm": {
     "name": "#%% md\n"
    }
   },
   "source": [
    "### DINO ViT/16\n"
   ]
  },
  {
   "cell_type": "code",
   "execution_count": null,
   "metadata": {
    "pycharm": {
     "name": "#%%\n"
    }
   },
   "outputs": [],
   "source": [
    "checkpoint = torch.hub.load_state_dict_from_url('https://dl.fbaipublicfiles.com/dino/dino_vitbase16_pretrain/dino_vitbase16_pretrain.pth', map_location='cpu', check_hash=True)\n",
    "\n",
    "new_checkpoint = []\n",
    "\n",
    "for k in checkpoint:\n",
    "    if not k.startswith(\"head.\"):\n",
    "        new_k = \"trunk.\"+k\n",
    "        new_checkpoint.append([new_k, checkpoint[k]])\n",
    "    else:\n",
    "        new_k = \"heads.0.clf.0.\"+k[len(\"head.\"):]\n",
    "        new_checkpoint.append([new_k, checkpoint[k]])\n",
    "\n",
    "new_checkpoint = OrderedDict(new_checkpoint)"
   ]
  },
  {
   "cell_type": "code",
   "execution_count": null,
   "metadata": {
    "pycharm": {
     "name": "#%%\n"
    }
   },
   "outputs": [],
   "source": [
    "new_checkpoint.keys()"
   ]
  },
  {
   "cell_type": "code",
   "execution_count": null,
   "metadata": {
    "pycharm": {
     "name": "#%%\n"
    }
   },
   "outputs": [],
   "source": [
    "save = {\"model\": new_checkpoint}\n",
    "torch.save(save, \"../checkpoints/dino.pth\")"
   ]
  },
  {
   "cell_type": "markdown",
   "metadata": {
    "collapsed": false,
    "pycharm": {
     "name": "#%% md\n"
    }
   },
   "source": [
    "### Supervised ViT/16\n"
   ]
  },
  {
   "cell_type": "code",
   "execution_count": null,
   "metadata": {
    "pycharm": {
     "name": "#%%\n"
    }
   },
   "outputs": [],
   "source": [
    "checkpoint = torch.hub.load_state_dict_from_url('https://github.com/rwightman/pytorch-image-models/releases/download/v0.1-vitjx/jx_vit_base_p16_224-80ecf9dd.pth', map_location='cpu', check_hash=True)\n",
    "\n",
    "new_checkpoint = []\n",
    "\n",
    "for k in checkpoint:\n",
    "    if not k.startswith(\"head.\"):\n",
    "        new_k = \"trunk.\"+k\n",
    "        new_checkpoint.append([new_k, checkpoint[k]])\n",
    "    else:\n",
    "        new_k = \"heads.0.clf.0.\"+k[len(\"head.\"):]\n",
    "        new_checkpoint.append([new_k, checkpoint[k]])\n",
    "\n",
    "new_checkpoint = OrderedDict(new_checkpoint)"
   ]
  },
  {
   "cell_type": "code",
   "execution_count": null,
   "metadata": {
    "pycharm": {
     "name": "#%%\n"
    }
   },
   "outputs": [],
   "source": [
    "new_checkpoint.keys()"
   ]
  },
  {
   "cell_type": "code",
   "execution_count": null,
   "metadata": {
    "pycharm": {
     "name": "#%%\n"
    }
   },
   "outputs": [],
   "source": [
    "save = {\"model\": new_checkpoint}\n",
    "torch.save(save, \"../checkpoints/vit_supervised.pth\")"
   ]
  }
 ],
 "metadata": {
  "kernelspec": {
   "display_name": "vissl",
   "language": "python",
   "name": "python3"
  },
  "language_info": {
   "codemirror_mode": {
    "name": "ipython",
    "version": 3
   },
   "file_extension": ".py",
   "mimetype": "text/x-python",
   "name": "python",
   "nbconvert_exporter": "python",
   "pygments_lexer": "ipython3",
   "version": "3.8.17"
  }
 },
 "nbformat": 4,
 "nbformat_minor": 2
}
