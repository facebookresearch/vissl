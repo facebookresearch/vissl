{
 "cells": [
  {
   "cell_type": "code",
   "execution_count": null,
   "metadata": {},
   "outputs": [],
   "source": [
    "import torch\n",
    "from collections import OrderedDict"
   ]
  },
  {
   "cell_type": "markdown",
   "metadata": {},
   "source": [
    "### Deit 3"
   ]
  },
  {
   "cell_type": "code",
   "execution_count": null,
   "metadata": {},
   "outputs": [],
   "source": [
    "checkpoint = torch.hub.load_state_dict_from_url(\"https://dl.fbaipublicfiles.com/deit/deit_3_base_224_1k.pth\", map_location='cpu', check_hash=True)\n",
    "new_checkpoint = []\n",
    "for k in checkpoint[\"model\"]:\n",
    "    if not k.startswith(\"head.\"):\n",
    "        new_k = \"trunk.\"+k\n",
    "        new_checkpoint.append([new_k, checkpoint[\"model\"][k]])\n",
    "    else:\n",
    "        new_k = \"heads.0.clf.0.\"+k[len(\"head.\"):]\n",
    "        new_checkpoint.append([new_k, checkpoint[\"model\"][k]])\n",
    "\n",
    "new_checkpoint = OrderedDict(new_checkpoint)"
   ]
  },
  {
   "cell_type": "code",
   "execution_count": null,
   "metadata": {},
   "outputs": [],
   "source": [
    "new_checkpoint.keys()"
   ]
  },
  {
   "cell_type": "code",
   "execution_count": null,
   "metadata": {},
   "outputs": [],
   "source": [
    "save = {\"model\": new_checkpoint}\n",
    "torch.save(save, \"../checkpoints/deitb.pth\") #deit has already trained head on in1k, so we export it flat, into 'checkpoints' directory"
   ]
  },
  {
   "cell_type": "markdown",
   "metadata": {},
   "source": [
    "### iBot"
   ]
  },
  {
   "cell_type": "code",
   "execution_count": null,
   "metadata": {},
   "outputs": [],
   "source": [
    "checkpoint = torch.hub.load_state_dict_from_url(\"https://lf3-nlp-opensource.bytetos.com/obj/nlp-opensource/archive/2022/ibot/vitb_16/checkpoint_teacher.pth\", map_location='cpu', check_hash=True)\n",
    "new_checkpoint = []\n",
    "for k in checkpoint[\"state_dict\"]:    \n",
    "    new_k = \"trunk.\"+k\n",
    "    new_checkpoint.append([new_k, checkpoint[\"state_dict\"][k]])\n",
    "    \n",
    "new_checkpoint = OrderedDict(new_checkpoint)"
   ]
  },
  {
   "cell_type": "code",
   "execution_count": null,
   "metadata": {},
   "outputs": [],
   "source": [
    "new_checkpoint.keys()"
   ]
  },
  {
   "cell_type": "code",
   "execution_count": null,
   "metadata": {},
   "outputs": [],
   "source": [
    "save = {\"model\": new_checkpoint}\n",
    "torch.save(save, \"../checkpoints/trunk_only/ibotb.pth\") #we use only trunks of ssl models, so we export it into 'checkpoints/trunk_only' directory"
   ]
  }
 ],
 "metadata": {
  "kernelspec": {
   "display_name": "vissl",
   "language": "python",
   "name": "python3"
  },
  "language_info": {
   "codemirror_mode": {
    "name": "ipython",
    "version": 3
   },
   "file_extension": ".py",
   "mimetype": "text/x-python",
   "name": "python",
   "nbconvert_exporter": "python",
   "pygments_lexer": "ipython3",
   "version": "3.8.17"
  },
  "orig_nbformat": 4
 },
 "nbformat": 4,
 "nbformat_minor": 2
}