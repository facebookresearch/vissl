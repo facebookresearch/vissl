{
 "cells": [
  {
   "cell_type": "code",
   "execution_count": 1,
   "metadata": {
    "pycharm": {
     "name": "#%%\n"
    }
   },
   "outputs": [],
   "source": [
    "import torch\n",
    "from collections import OrderedDict"
   ]
  },
  {
   "cell_type": "markdown",
   "source": [
    "### Deit 3"
   ],
   "metadata": {
    "collapsed": false,
    "pycharm": {
     "name": "#%% md\n"
    }
   }
  },
  {
   "cell_type": "code",
   "execution_count": 3,
   "metadata": {
    "pycharm": {
     "name": "#%%\n"
    }
   },
   "outputs": [],
   "source": [
    "checkpoint = torch.hub.load_state_dict_from_url(\"https://dl.fbaipublicfiles.com/deit/deit_3_base_224_1k.pth\", map_location='cpu', check_hash=True)\n",
    "new_checkpoint = []\n",
    "for k in checkpoint[\"model\"]:\n",
    "    if not k.startswith(\"head.\"):\n",
    "        new_k = \"trunk.\"+k\n",
    "        new_checkpoint.append([new_k, checkpoint[\"model\"][k]])\n",
    "    else:\n",
    "        new_k = \"heads.0.clf.0.\"+k[len(\"head.\"):]\n",
    "        new_checkpoint.append([new_k, checkpoint[\"model\"][k]])\n",
    "\n",
    "new_checkpoint = OrderedDict(new_checkpoint)"
   ]
  },
  {
   "cell_type": "code",
   "execution_count": 4,
   "metadata": {
    "pycharm": {
     "name": "#%%\n"
    }
   },
   "outputs": [
    {
     "data": {
      "text/plain": "odict_keys(['trunk.cls_token', 'trunk.pos_embed', 'trunk.patch_embed.proj.weight', 'trunk.patch_embed.proj.bias', 'trunk.blocks.0.gamma_1', 'trunk.blocks.0.gamma_2', 'trunk.blocks.0.norm1.weight', 'trunk.blocks.0.norm1.bias', 'trunk.blocks.0.attn.qkv.weight', 'trunk.blocks.0.attn.qkv.bias', 'trunk.blocks.0.attn.proj.weight', 'trunk.blocks.0.attn.proj.bias', 'trunk.blocks.0.norm2.weight', 'trunk.blocks.0.norm2.bias', 'trunk.blocks.0.mlp.fc1.weight', 'trunk.blocks.0.mlp.fc1.bias', 'trunk.blocks.0.mlp.fc2.weight', 'trunk.blocks.0.mlp.fc2.bias', 'trunk.blocks.1.gamma_1', 'trunk.blocks.1.gamma_2', 'trunk.blocks.1.norm1.weight', 'trunk.blocks.1.norm1.bias', 'trunk.blocks.1.attn.qkv.weight', 'trunk.blocks.1.attn.qkv.bias', 'trunk.blocks.1.attn.proj.weight', 'trunk.blocks.1.attn.proj.bias', 'trunk.blocks.1.norm2.weight', 'trunk.blocks.1.norm2.bias', 'trunk.blocks.1.mlp.fc1.weight', 'trunk.blocks.1.mlp.fc1.bias', 'trunk.blocks.1.mlp.fc2.weight', 'trunk.blocks.1.mlp.fc2.bias', 'trunk.blocks.2.gamma_1', 'trunk.blocks.2.gamma_2', 'trunk.blocks.2.norm1.weight', 'trunk.blocks.2.norm1.bias', 'trunk.blocks.2.attn.qkv.weight', 'trunk.blocks.2.attn.qkv.bias', 'trunk.blocks.2.attn.proj.weight', 'trunk.blocks.2.attn.proj.bias', 'trunk.blocks.2.norm2.weight', 'trunk.blocks.2.norm2.bias', 'trunk.blocks.2.mlp.fc1.weight', 'trunk.blocks.2.mlp.fc1.bias', 'trunk.blocks.2.mlp.fc2.weight', 'trunk.blocks.2.mlp.fc2.bias', 'trunk.blocks.3.gamma_1', 'trunk.blocks.3.gamma_2', 'trunk.blocks.3.norm1.weight', 'trunk.blocks.3.norm1.bias', 'trunk.blocks.3.attn.qkv.weight', 'trunk.blocks.3.attn.qkv.bias', 'trunk.blocks.3.attn.proj.weight', 'trunk.blocks.3.attn.proj.bias', 'trunk.blocks.3.norm2.weight', 'trunk.blocks.3.norm2.bias', 'trunk.blocks.3.mlp.fc1.weight', 'trunk.blocks.3.mlp.fc1.bias', 'trunk.blocks.3.mlp.fc2.weight', 'trunk.blocks.3.mlp.fc2.bias', 'trunk.blocks.4.gamma_1', 'trunk.blocks.4.gamma_2', 'trunk.blocks.4.norm1.weight', 'trunk.blocks.4.norm1.bias', 'trunk.blocks.4.attn.qkv.weight', 'trunk.blocks.4.attn.qkv.bias', 'trunk.blocks.4.attn.proj.weight', 'trunk.blocks.4.attn.proj.bias', 'trunk.blocks.4.norm2.weight', 'trunk.blocks.4.norm2.bias', 'trunk.blocks.4.mlp.fc1.weight', 'trunk.blocks.4.mlp.fc1.bias', 'trunk.blocks.4.mlp.fc2.weight', 'trunk.blocks.4.mlp.fc2.bias', 'trunk.blocks.5.gamma_1', 'trunk.blocks.5.gamma_2', 'trunk.blocks.5.norm1.weight', 'trunk.blocks.5.norm1.bias', 'trunk.blocks.5.attn.qkv.weight', 'trunk.blocks.5.attn.qkv.bias', 'trunk.blocks.5.attn.proj.weight', 'trunk.blocks.5.attn.proj.bias', 'trunk.blocks.5.norm2.weight', 'trunk.blocks.5.norm2.bias', 'trunk.blocks.5.mlp.fc1.weight', 'trunk.blocks.5.mlp.fc1.bias', 'trunk.blocks.5.mlp.fc2.weight', 'trunk.blocks.5.mlp.fc2.bias', 'trunk.blocks.6.gamma_1', 'trunk.blocks.6.gamma_2', 'trunk.blocks.6.norm1.weight', 'trunk.blocks.6.norm1.bias', 'trunk.blocks.6.attn.qkv.weight', 'trunk.blocks.6.attn.qkv.bias', 'trunk.blocks.6.attn.proj.weight', 'trunk.blocks.6.attn.proj.bias', 'trunk.blocks.6.norm2.weight', 'trunk.blocks.6.norm2.bias', 'trunk.blocks.6.mlp.fc1.weight', 'trunk.blocks.6.mlp.fc1.bias', 'trunk.blocks.6.mlp.fc2.weight', 'trunk.blocks.6.mlp.fc2.bias', 'trunk.blocks.7.gamma_1', 'trunk.blocks.7.gamma_2', 'trunk.blocks.7.norm1.weight', 'trunk.blocks.7.norm1.bias', 'trunk.blocks.7.attn.qkv.weight', 'trunk.blocks.7.attn.qkv.bias', 'trunk.blocks.7.attn.proj.weight', 'trunk.blocks.7.attn.proj.bias', 'trunk.blocks.7.norm2.weight', 'trunk.blocks.7.norm2.bias', 'trunk.blocks.7.mlp.fc1.weight', 'trunk.blocks.7.mlp.fc1.bias', 'trunk.blocks.7.mlp.fc2.weight', 'trunk.blocks.7.mlp.fc2.bias', 'trunk.blocks.8.gamma_1', 'trunk.blocks.8.gamma_2', 'trunk.blocks.8.norm1.weight', 'trunk.blocks.8.norm1.bias', 'trunk.blocks.8.attn.qkv.weight', 'trunk.blocks.8.attn.qkv.bias', 'trunk.blocks.8.attn.proj.weight', 'trunk.blocks.8.attn.proj.bias', 'trunk.blocks.8.norm2.weight', 'trunk.blocks.8.norm2.bias', 'trunk.blocks.8.mlp.fc1.weight', 'trunk.blocks.8.mlp.fc1.bias', 'trunk.blocks.8.mlp.fc2.weight', 'trunk.blocks.8.mlp.fc2.bias', 'trunk.blocks.9.gamma_1', 'trunk.blocks.9.gamma_2', 'trunk.blocks.9.norm1.weight', 'trunk.blocks.9.norm1.bias', 'trunk.blocks.9.attn.qkv.weight', 'trunk.blocks.9.attn.qkv.bias', 'trunk.blocks.9.attn.proj.weight', 'trunk.blocks.9.attn.proj.bias', 'trunk.blocks.9.norm2.weight', 'trunk.blocks.9.norm2.bias', 'trunk.blocks.9.mlp.fc1.weight', 'trunk.blocks.9.mlp.fc1.bias', 'trunk.blocks.9.mlp.fc2.weight', 'trunk.blocks.9.mlp.fc2.bias', 'trunk.blocks.10.gamma_1', 'trunk.blocks.10.gamma_2', 'trunk.blocks.10.norm1.weight', 'trunk.blocks.10.norm1.bias', 'trunk.blocks.10.attn.qkv.weight', 'trunk.blocks.10.attn.qkv.bias', 'trunk.blocks.10.attn.proj.weight', 'trunk.blocks.10.attn.proj.bias', 'trunk.blocks.10.norm2.weight', 'trunk.blocks.10.norm2.bias', 'trunk.blocks.10.mlp.fc1.weight', 'trunk.blocks.10.mlp.fc1.bias', 'trunk.blocks.10.mlp.fc2.weight', 'trunk.blocks.10.mlp.fc2.bias', 'trunk.blocks.11.gamma_1', 'trunk.blocks.11.gamma_2', 'trunk.blocks.11.norm1.weight', 'trunk.blocks.11.norm1.bias', 'trunk.blocks.11.attn.qkv.weight', 'trunk.blocks.11.attn.qkv.bias', 'trunk.blocks.11.attn.proj.weight', 'trunk.blocks.11.attn.proj.bias', 'trunk.blocks.11.norm2.weight', 'trunk.blocks.11.norm2.bias', 'trunk.blocks.11.mlp.fc1.weight', 'trunk.blocks.11.mlp.fc1.bias', 'trunk.blocks.11.mlp.fc2.weight', 'trunk.blocks.11.mlp.fc2.bias', 'trunk.norm.weight', 'trunk.norm.bias', 'heads.0.clf.0.weight', 'heads.0.clf.0.bias'])"
     },
     "execution_count": 4,
     "metadata": {},
     "output_type": "execute_result"
    }
   ],
   "source": [
    "new_checkpoint.keys()"
   ]
  },
  {
   "cell_type": "code",
   "execution_count": null,
   "metadata": {
    "pycharm": {
     "name": "#%%\n"
    }
   },
   "outputs": [],
   "source": [
    "save = {\"model\": new_checkpoint}\n",
    "torch.save(save, \"../checkpoints/deitb.pth\") #deit has already trained head on in1k, so we export it flat, into 'checkpoints' directory"
   ]
  },
  {
   "cell_type": "markdown",
   "source": [
    "### iBot"
   ],
   "metadata": {
    "collapsed": false,
    "pycharm": {
     "name": "#%% md\n"
    }
   }
  },
  {
   "cell_type": "code",
   "execution_count": null,
   "metadata": {
    "pycharm": {
     "name": "#%%\n"
    }
   },
   "outputs": [],
   "source": [
    "checkpoint = torch.hub.load_state_dict_from_url(\"https://lf3-nlp-opensource.bytetos.com/obj/nlp-opensource/archive/2022/ibot/vitb_16/checkpoint_teacher.pth\", map_location='cpu', check_hash=True)\n",
    "new_checkpoint = []\n",
    "for k in checkpoint[\"state_dict\"]:    \n",
    "    new_k = \"trunk.\"+k\n",
    "    new_checkpoint.append([new_k, checkpoint[\"state_dict\"][k]])\n",
    "    \n",
    "new_checkpoint = OrderedDict(new_checkpoint)"
   ]
  },
  {
   "cell_type": "code",
   "execution_count": null,
   "metadata": {
    "pycharm": {
     "name": "#%%\n"
    }
   },
   "outputs": [],
   "source": [
    "new_checkpoint.keys()"
   ]
  },
  {
   "cell_type": "code",
   "execution_count": null,
   "outputs": [],
   "source": [
    "save = {\"model\": new_checkpoint}\n",
    "torch.save(save, \"../checkpoints/trunk_only/ibotb.pth\") #we use only trunks of ssl models, so we export it into 'checkpoints/trunk_only' directory\n"
   ],
   "metadata": {
    "collapsed": false,
    "pycharm": {
     "name": "#%%\n"
    }
   }
  },
  {
   "cell_type": "markdown",
   "source": [
    "### DINO ViT/16\n"
   ],
   "metadata": {
    "collapsed": false,
    "pycharm": {
     "name": "#%% md\n"
    }
   }
  },
  {
   "cell_type": "code",
   "execution_count": 5,
   "outputs": [
    {
     "name": "stderr",
     "output_type": "stream",
     "text": [
      "Downloading: \"https://dl.fbaipublicfiles.com/dino/dino_vitbase16_pretrain/dino_vitbase16_pretrain.pth\" to /Users/piotrwojcik/.cache/torch/hub/checkpoints/dino_vitbase16_pretrain.pth\n"
     ]
    },
    {
     "data": {
      "text/plain": "  0%|          | 0.00/327M [00:00<?, ?B/s]",
      "application/vnd.jupyter.widget-view+json": {
       "version_major": 2,
       "version_minor": 0,
       "model_id": "65a227d8ca034580955a33931c622ccd"
      }
     },
     "metadata": {},
     "output_type": "display_data"
    }
   ],
   "source": [
    "checkpoint = torch.hub.load_state_dict_from_url('https://dl.fbaipublicfiles.com/dino/dino_vitbase16_pretrain/dino_vitbase16_pretrain.pth', map_location='cpu', check_hash=True)\n",
    "\n",
    "new_checkpoint = []\n",
    "\n",
    "for k in checkpoint:\n",
    "    if not k.startswith(\"head.\"):\n",
    "        new_k = \"trunk.\"+k\n",
    "        new_checkpoint.append([new_k, checkpoint[k]])\n",
    "    else:\n",
    "        new_k = \"heads.0.clf.0.\"+k[len(\"head.\"):]\n",
    "        new_checkpoint.append([new_k, checkpoint[k]])\n",
    "\n",
    "new_checkpoint = OrderedDict(new_checkpoint)"
   ],
   "metadata": {
    "collapsed": false,
    "pycharm": {
     "name": "#%%\n"
    }
   }
  },
  {
   "cell_type": "code",
   "execution_count": 6,
   "outputs": [
    {
     "data": {
      "text/plain": "odict_keys(['trunk.cls_token', 'trunk.pos_embed', 'trunk.patch_embed.proj.weight', 'trunk.patch_embed.proj.bias', 'trunk.blocks.0.norm1.weight', 'trunk.blocks.0.norm1.bias', 'trunk.blocks.0.attn.qkv.weight', 'trunk.blocks.0.attn.qkv.bias', 'trunk.blocks.0.attn.proj.weight', 'trunk.blocks.0.attn.proj.bias', 'trunk.blocks.0.norm2.weight', 'trunk.blocks.0.norm2.bias', 'trunk.blocks.0.mlp.fc1.weight', 'trunk.blocks.0.mlp.fc1.bias', 'trunk.blocks.0.mlp.fc2.weight', 'trunk.blocks.0.mlp.fc2.bias', 'trunk.blocks.1.norm1.weight', 'trunk.blocks.1.norm1.bias', 'trunk.blocks.1.attn.qkv.weight', 'trunk.blocks.1.attn.qkv.bias', 'trunk.blocks.1.attn.proj.weight', 'trunk.blocks.1.attn.proj.bias', 'trunk.blocks.1.norm2.weight', 'trunk.blocks.1.norm2.bias', 'trunk.blocks.1.mlp.fc1.weight', 'trunk.blocks.1.mlp.fc1.bias', 'trunk.blocks.1.mlp.fc2.weight', 'trunk.blocks.1.mlp.fc2.bias', 'trunk.blocks.2.norm1.weight', 'trunk.blocks.2.norm1.bias', 'trunk.blocks.2.attn.qkv.weight', 'trunk.blocks.2.attn.qkv.bias', 'trunk.blocks.2.attn.proj.weight', 'trunk.blocks.2.attn.proj.bias', 'trunk.blocks.2.norm2.weight', 'trunk.blocks.2.norm2.bias', 'trunk.blocks.2.mlp.fc1.weight', 'trunk.blocks.2.mlp.fc1.bias', 'trunk.blocks.2.mlp.fc2.weight', 'trunk.blocks.2.mlp.fc2.bias', 'trunk.blocks.3.norm1.weight', 'trunk.blocks.3.norm1.bias', 'trunk.blocks.3.attn.qkv.weight', 'trunk.blocks.3.attn.qkv.bias', 'trunk.blocks.3.attn.proj.weight', 'trunk.blocks.3.attn.proj.bias', 'trunk.blocks.3.norm2.weight', 'trunk.blocks.3.norm2.bias', 'trunk.blocks.3.mlp.fc1.weight', 'trunk.blocks.3.mlp.fc1.bias', 'trunk.blocks.3.mlp.fc2.weight', 'trunk.blocks.3.mlp.fc2.bias', 'trunk.blocks.4.norm1.weight', 'trunk.blocks.4.norm1.bias', 'trunk.blocks.4.attn.qkv.weight', 'trunk.blocks.4.attn.qkv.bias', 'trunk.blocks.4.attn.proj.weight', 'trunk.blocks.4.attn.proj.bias', 'trunk.blocks.4.norm2.weight', 'trunk.blocks.4.norm2.bias', 'trunk.blocks.4.mlp.fc1.weight', 'trunk.blocks.4.mlp.fc1.bias', 'trunk.blocks.4.mlp.fc2.weight', 'trunk.blocks.4.mlp.fc2.bias', 'trunk.blocks.5.norm1.weight', 'trunk.blocks.5.norm1.bias', 'trunk.blocks.5.attn.qkv.weight', 'trunk.blocks.5.attn.qkv.bias', 'trunk.blocks.5.attn.proj.weight', 'trunk.blocks.5.attn.proj.bias', 'trunk.blocks.5.norm2.weight', 'trunk.blocks.5.norm2.bias', 'trunk.blocks.5.mlp.fc1.weight', 'trunk.blocks.5.mlp.fc1.bias', 'trunk.blocks.5.mlp.fc2.weight', 'trunk.blocks.5.mlp.fc2.bias', 'trunk.blocks.6.norm1.weight', 'trunk.blocks.6.norm1.bias', 'trunk.blocks.6.attn.qkv.weight', 'trunk.blocks.6.attn.qkv.bias', 'trunk.blocks.6.attn.proj.weight', 'trunk.blocks.6.attn.proj.bias', 'trunk.blocks.6.norm2.weight', 'trunk.blocks.6.norm2.bias', 'trunk.blocks.6.mlp.fc1.weight', 'trunk.blocks.6.mlp.fc1.bias', 'trunk.blocks.6.mlp.fc2.weight', 'trunk.blocks.6.mlp.fc2.bias', 'trunk.blocks.7.norm1.weight', 'trunk.blocks.7.norm1.bias', 'trunk.blocks.7.attn.qkv.weight', 'trunk.blocks.7.attn.qkv.bias', 'trunk.blocks.7.attn.proj.weight', 'trunk.blocks.7.attn.proj.bias', 'trunk.blocks.7.norm2.weight', 'trunk.blocks.7.norm2.bias', 'trunk.blocks.7.mlp.fc1.weight', 'trunk.blocks.7.mlp.fc1.bias', 'trunk.blocks.7.mlp.fc2.weight', 'trunk.blocks.7.mlp.fc2.bias', 'trunk.blocks.8.norm1.weight', 'trunk.blocks.8.norm1.bias', 'trunk.blocks.8.attn.qkv.weight', 'trunk.blocks.8.attn.qkv.bias', 'trunk.blocks.8.attn.proj.weight', 'trunk.blocks.8.attn.proj.bias', 'trunk.blocks.8.norm2.weight', 'trunk.blocks.8.norm2.bias', 'trunk.blocks.8.mlp.fc1.weight', 'trunk.blocks.8.mlp.fc1.bias', 'trunk.blocks.8.mlp.fc2.weight', 'trunk.blocks.8.mlp.fc2.bias', 'trunk.blocks.9.norm1.weight', 'trunk.blocks.9.norm1.bias', 'trunk.blocks.9.attn.qkv.weight', 'trunk.blocks.9.attn.qkv.bias', 'trunk.blocks.9.attn.proj.weight', 'trunk.blocks.9.attn.proj.bias', 'trunk.blocks.9.norm2.weight', 'trunk.blocks.9.norm2.bias', 'trunk.blocks.9.mlp.fc1.weight', 'trunk.blocks.9.mlp.fc1.bias', 'trunk.blocks.9.mlp.fc2.weight', 'trunk.blocks.9.mlp.fc2.bias', 'trunk.blocks.10.norm1.weight', 'trunk.blocks.10.norm1.bias', 'trunk.blocks.10.attn.qkv.weight', 'trunk.blocks.10.attn.qkv.bias', 'trunk.blocks.10.attn.proj.weight', 'trunk.blocks.10.attn.proj.bias', 'trunk.blocks.10.norm2.weight', 'trunk.blocks.10.norm2.bias', 'trunk.blocks.10.mlp.fc1.weight', 'trunk.blocks.10.mlp.fc1.bias', 'trunk.blocks.10.mlp.fc2.weight', 'trunk.blocks.10.mlp.fc2.bias', 'trunk.blocks.11.norm1.weight', 'trunk.blocks.11.norm1.bias', 'trunk.blocks.11.attn.qkv.weight', 'trunk.blocks.11.attn.qkv.bias', 'trunk.blocks.11.attn.proj.weight', 'trunk.blocks.11.attn.proj.bias', 'trunk.blocks.11.norm2.weight', 'trunk.blocks.11.norm2.bias', 'trunk.blocks.11.mlp.fc1.weight', 'trunk.blocks.11.mlp.fc1.bias', 'trunk.blocks.11.mlp.fc2.weight', 'trunk.blocks.11.mlp.fc2.bias', 'trunk.norm.weight', 'trunk.norm.bias'])"
     },
     "execution_count": 6,
     "metadata": {},
     "output_type": "execute_result"
    }
   ],
   "source": [
    "new_checkpoint.keys()"
   ],
   "metadata": {
    "collapsed": false,
    "pycharm": {
     "name": "#%%\n"
    }
   }
  },
  {
   "cell_type": "code",
   "execution_count": 8,
   "outputs": [],
   "source": [
    "save = {\"model\": new_checkpoint}\n",
    "torch.save(save, \"../checkpoints/dino.pth\")"
   ],
   "metadata": {
    "collapsed": false,
    "pycharm": {
     "name": "#%%\n"
    }
   }
  },
  {
   "cell_type": "code",
   "execution_count": null,
   "outputs": [],
   "source": [],
   "metadata": {
    "collapsed": false,
    "pycharm": {
     "name": "#%%\n"
    }
   }
  },
  {
   "cell_type": "markdown",
   "source": [
    "### Supervised ViT/16\n"
   ],
   "metadata": {
    "collapsed": false,
    "pycharm": {
     "name": "#%% md\n"
    }
   }
  },
  {
   "cell_type": "code",
   "execution_count": 8,
   "outputs": [
    {
     "name": "stderr",
     "output_type": "stream",
     "text": [
      "Downloading: \"https://github.com/rwightman/pytorch-image-models/releases/download/v0.1-vitjx/jx_vit_base_p16_224-80ecf9dd.pth\" to /Users/piotrwojcik/.cache/torch/hub/checkpoints/jx_vit_base_p16_224-80ecf9dd.pth\n"
     ]
    },
    {
     "data": {
      "text/plain": "  0%|          | 0.00/330M [00:00<?, ?B/s]",
      "application/vnd.jupyter.widget-view+json": {
       "version_major": 2,
       "version_minor": 0,
       "model_id": "6e7c6a9b011e4057aceda85f62e9154b"
      }
     },
     "metadata": {},
     "output_type": "display_data"
    }
   ],
   "source": [
    "checkpoint = torch.hub.load_state_dict_from_url('https://github.com/rwightman/pytorch-image-models/releases/download/v0.1-vitjx/jx_vit_base_p16_224-80ecf9dd.pth', map_location='cpu', check_hash=True)\n",
    "\n",
    "new_checkpoint = []\n",
    "\n",
    "for k in checkpoint:\n",
    "    if not k.startswith(\"head.\"):\n",
    "        new_k = \"trunk.\"+k\n",
    "        new_checkpoint.append([new_k, checkpoint[k]])\n",
    "    else:\n",
    "        new_k = \"heads.0.clf.0.\"+k[len(\"head.\"):]\n",
    "        new_checkpoint.append([new_k, checkpoint[k]])\n",
    "\n",
    "new_checkpoint = OrderedDict(new_checkpoint)"
   ],
   "metadata": {
    "collapsed": false,
    "pycharm": {
     "name": "#%%\n"
    }
   }
  },
  {
   "cell_type": "code",
   "execution_count": 10,
   "outputs": [
    {
     "data": {
      "text/plain": "odict_keys(['trunk.cls_token', 'trunk.norm.bias', 'trunk.norm.weight', 'trunk.blocks.0.norm1.bias', 'trunk.blocks.0.norm1.weight', 'trunk.blocks.0.norm2.bias', 'trunk.blocks.0.norm2.weight', 'trunk.blocks.0.mlp.fc1.bias', 'trunk.blocks.0.mlp.fc1.weight', 'trunk.blocks.0.mlp.fc2.bias', 'trunk.blocks.0.mlp.fc2.weight', 'trunk.blocks.0.attn.proj.bias', 'trunk.blocks.0.attn.proj.weight', 'trunk.blocks.0.attn.qkv.bias', 'trunk.blocks.0.attn.qkv.weight', 'trunk.blocks.1.norm1.bias', 'trunk.blocks.1.norm1.weight', 'trunk.blocks.1.norm2.bias', 'trunk.blocks.1.norm2.weight', 'trunk.blocks.1.mlp.fc1.bias', 'trunk.blocks.1.mlp.fc1.weight', 'trunk.blocks.1.mlp.fc2.bias', 'trunk.blocks.1.mlp.fc2.weight', 'trunk.blocks.1.attn.proj.bias', 'trunk.blocks.1.attn.proj.weight', 'trunk.blocks.1.attn.qkv.bias', 'trunk.blocks.1.attn.qkv.weight', 'trunk.blocks.10.norm1.bias', 'trunk.blocks.10.norm1.weight', 'trunk.blocks.10.norm2.bias', 'trunk.blocks.10.norm2.weight', 'trunk.blocks.10.mlp.fc1.bias', 'trunk.blocks.10.mlp.fc1.weight', 'trunk.blocks.10.mlp.fc2.bias', 'trunk.blocks.10.mlp.fc2.weight', 'trunk.blocks.10.attn.proj.bias', 'trunk.blocks.10.attn.proj.weight', 'trunk.blocks.10.attn.qkv.bias', 'trunk.blocks.10.attn.qkv.weight', 'trunk.blocks.11.norm1.bias', 'trunk.blocks.11.norm1.weight', 'trunk.blocks.11.norm2.bias', 'trunk.blocks.11.norm2.weight', 'trunk.blocks.11.mlp.fc1.bias', 'trunk.blocks.11.mlp.fc1.weight', 'trunk.blocks.11.mlp.fc2.bias', 'trunk.blocks.11.mlp.fc2.weight', 'trunk.blocks.11.attn.proj.bias', 'trunk.blocks.11.attn.proj.weight', 'trunk.blocks.11.attn.qkv.bias', 'trunk.blocks.11.attn.qkv.weight', 'trunk.blocks.2.norm1.bias', 'trunk.blocks.2.norm1.weight', 'trunk.blocks.2.norm2.bias', 'trunk.blocks.2.norm2.weight', 'trunk.blocks.2.mlp.fc1.bias', 'trunk.blocks.2.mlp.fc1.weight', 'trunk.blocks.2.mlp.fc2.bias', 'trunk.blocks.2.mlp.fc2.weight', 'trunk.blocks.2.attn.proj.bias', 'trunk.blocks.2.attn.proj.weight', 'trunk.blocks.2.attn.qkv.bias', 'trunk.blocks.2.attn.qkv.weight', 'trunk.blocks.3.norm1.bias', 'trunk.blocks.3.norm1.weight', 'trunk.blocks.3.norm2.bias', 'trunk.blocks.3.norm2.weight', 'trunk.blocks.3.mlp.fc1.bias', 'trunk.blocks.3.mlp.fc1.weight', 'trunk.blocks.3.mlp.fc2.bias', 'trunk.blocks.3.mlp.fc2.weight', 'trunk.blocks.3.attn.proj.bias', 'trunk.blocks.3.attn.proj.weight', 'trunk.blocks.3.attn.qkv.bias', 'trunk.blocks.3.attn.qkv.weight', 'trunk.blocks.4.norm1.bias', 'trunk.blocks.4.norm1.weight', 'trunk.blocks.4.norm2.bias', 'trunk.blocks.4.norm2.weight', 'trunk.blocks.4.mlp.fc1.bias', 'trunk.blocks.4.mlp.fc1.weight', 'trunk.blocks.4.mlp.fc2.bias', 'trunk.blocks.4.mlp.fc2.weight', 'trunk.blocks.4.attn.proj.bias', 'trunk.blocks.4.attn.proj.weight', 'trunk.blocks.4.attn.qkv.bias', 'trunk.blocks.4.attn.qkv.weight', 'trunk.blocks.5.norm1.bias', 'trunk.blocks.5.norm1.weight', 'trunk.blocks.5.norm2.bias', 'trunk.blocks.5.norm2.weight', 'trunk.blocks.5.mlp.fc1.bias', 'trunk.blocks.5.mlp.fc1.weight', 'trunk.blocks.5.mlp.fc2.bias', 'trunk.blocks.5.mlp.fc2.weight', 'trunk.blocks.5.attn.proj.bias', 'trunk.blocks.5.attn.proj.weight', 'trunk.blocks.5.attn.qkv.bias', 'trunk.blocks.5.attn.qkv.weight', 'trunk.blocks.6.norm1.bias', 'trunk.blocks.6.norm1.weight', 'trunk.blocks.6.norm2.bias', 'trunk.blocks.6.norm2.weight', 'trunk.blocks.6.mlp.fc1.bias', 'trunk.blocks.6.mlp.fc1.weight', 'trunk.blocks.6.mlp.fc2.bias', 'trunk.blocks.6.mlp.fc2.weight', 'trunk.blocks.6.attn.proj.bias', 'trunk.blocks.6.attn.proj.weight', 'trunk.blocks.6.attn.qkv.bias', 'trunk.blocks.6.attn.qkv.weight', 'trunk.blocks.7.norm1.bias', 'trunk.blocks.7.norm1.weight', 'trunk.blocks.7.norm2.bias', 'trunk.blocks.7.norm2.weight', 'trunk.blocks.7.mlp.fc1.bias', 'trunk.blocks.7.mlp.fc1.weight', 'trunk.blocks.7.mlp.fc2.bias', 'trunk.blocks.7.mlp.fc2.weight', 'trunk.blocks.7.attn.proj.bias', 'trunk.blocks.7.attn.proj.weight', 'trunk.blocks.7.attn.qkv.bias', 'trunk.blocks.7.attn.qkv.weight', 'trunk.blocks.8.norm1.bias', 'trunk.blocks.8.norm1.weight', 'trunk.blocks.8.norm2.bias', 'trunk.blocks.8.norm2.weight', 'trunk.blocks.8.mlp.fc1.bias', 'trunk.blocks.8.mlp.fc1.weight', 'trunk.blocks.8.mlp.fc2.bias', 'trunk.blocks.8.mlp.fc2.weight', 'trunk.blocks.8.attn.proj.bias', 'trunk.blocks.8.attn.proj.weight', 'trunk.blocks.8.attn.qkv.bias', 'trunk.blocks.8.attn.qkv.weight', 'trunk.blocks.9.norm1.bias', 'trunk.blocks.9.norm1.weight', 'trunk.blocks.9.norm2.bias', 'trunk.blocks.9.norm2.weight', 'trunk.blocks.9.mlp.fc1.bias', 'trunk.blocks.9.mlp.fc1.weight', 'trunk.blocks.9.mlp.fc2.bias', 'trunk.blocks.9.mlp.fc2.weight', 'trunk.blocks.9.attn.proj.bias', 'trunk.blocks.9.attn.proj.weight', 'trunk.blocks.9.attn.qkv.bias', 'trunk.blocks.9.attn.qkv.weight', 'trunk.pos_embed', 'trunk.patch_embed.proj.bias', 'trunk.patch_embed.proj.weight', 'heads.0.clf.0.bias', 'heads.0.clf.0.weight'])"
     },
     "execution_count": 10,
     "metadata": {},
     "output_type": "execute_result"
    }
   ],
   "source": [
    "new_checkpoint.keys()"
   ],
   "metadata": {
    "collapsed": false,
    "pycharm": {
     "name": "#%%\n"
    }
   }
  },
  {
   "cell_type": "code",
   "execution_count": 11,
   "outputs": [],
   "source": [
    "save = {\"model\": new_checkpoint}\n",
    "torch.save(save, \"../checkpoints/vit_supervised.pth\")"
   ],
   "metadata": {
    "collapsed": false,
    "pycharm": {
     "name": "#%%\n"
    }
   }
  },
  {
   "cell_type": "code",
   "execution_count": null,
   "outputs": [],
   "source": [],
   "metadata": {
    "collapsed": false,
    "pycharm": {
     "name": "#%%\n"
    }
   }
  }
 ],
 "metadata": {
  "kernelspec": {
   "display_name": "vissl",
   "language": "python",
   "name": "python3"
  },
  "language_info": {
   "codemirror_mode": {
    "name": "ipython",
    "version": 3
   },
   "file_extension": ".py",
   "mimetype": "text/x-python",
   "name": "python",
   "nbconvert_exporter": "python",
   "pygments_lexer": "ipython3",
   "version": "3.8.17"
  },
  "orig_nbformat": 4
 },
 "nbformat": 4,
 "nbformat_minor": 2
}