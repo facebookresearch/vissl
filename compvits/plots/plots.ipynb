{
 "cells": [
  {
   "cell_type": "markdown",
   "metadata": {
    "pycharm": {
     "name": "#%% md\n"
    }
   },
   "source": [
    "# Plotting accuracies"
   ]
  },
  {
   "cell_type": "code",
   "execution_count": null,
   "metadata": {
    "pycharm": {
     "name": "#%%\n"
    }
   },
   "outputs": [],
   "source": [
    "from compvits.scripts.gather_data import *\n",
    "import pandas as pd\n",
    "import seaborn as sns\n",
    "import matplotlib.pyplot as plt\n",
    "%matplotlib inline"
   ]
  },
  {
   "cell_type": "code",
   "execution_count": null,
   "metadata": {
    "pycharm": {
     "name": "#%%\n"
    }
   },
   "outputs": [],
   "source": [
    "sns.set_style(\"whitegrid\")"
   ]
  },
  {
   "cell_type": "code",
   "execution_count": null,
   "metadata": {
    "pycharm": {
     "name": "#%%\n"
    }
   },
   "outputs": [],
   "source": [
    "Ms = [2,3,4,6,8,9,12,16]\n",
    "nnd = gather_nearest_neighbor_data(\"../../logs\", models=[\"deitb\"], Ms=[f\"M{x}\" for x in Ms])\n",
    "tld = gather_test_linear_data(\"../../logs\", models=[\"deitb\"], Ms=[f\"M{x}\" for x in Ms])\n",
    "nndf = pd.DataFrame(flatten_nearest_neighbor_data(nnd))\n",
    "tldf = pd.DataFrame(flatten_test_linear_data(tld))"
   ]
  },
  {
   "cell_type": "code",
   "execution_count": null,
   "metadata": {
    "pycharm": {
     "name": "#%%\n"
    }
   },
   "outputs": [],
   "source": [
    "fig, axs = plt.subplots(1, 2, figsize=(20,8))\n",
    "sns.lineplot(data=tldf, x=\"K\", y=\"top1_acc\", hue=\"M\", ax=axs[0])\n",
    "nndf[\"min_top1_acc\"] = nndf[[f\"nn{k}_top1_acc\" for k in [10,20,100,200]]].apply(lambda x: min(x), axis=1)\n",
    "nndf[\"max_top1_acc\"] = nndf[[f\"nn{k}_top1_acc\" for k in [10,20,100,200]]].apply(lambda x: max(x), axis=1)\n",
    "sns.lineplot(data=nndf, x=\"K\", y=\"max_top1_acc\", hue=\"M\", ax=axs[1])"
   ]
  },
  {
   "cell_type": "code",
   "execution_count": null,
   "metadata": {
    "pycharm": {
     "name": "#%%\n"
    }
   },
   "outputs": [],
   "source": [
    "fig, axs = plt.subplots(1, 4, figsize=(20,5), sharey=True)\n",
    "axs[0].set_ylabel(\" \")\n",
    "axs[0].set_title(\"nn10\")\n",
    "axs[1].set_title(\"nn20\")\n",
    "axs[2].set_title(\"nn100\")\n",
    "axs[3].set_title(\"nn200\")\n",
    "sns.lineplot(data=nndf, x=\"K\", y=\"nn10_top1_acc\", hue=\"M\", ax=axs[0])\n",
    "sns.lineplot(data=nndf, x=\"K\", y=\"nn20_top1_acc\", hue=\"M\", ax=axs[1])\n",
    "sns.lineplot(data=nndf, x=\"K\", y=\"nn100_top1_acc\", hue=\"M\", ax=axs[2])\n",
    "sns.lineplot(data=nndf, x=\"K\", y=\"nn200_top1_acc\", hue=\"M\", ax=axs[3])"
   ]
  },
  {
   "cell_type": "markdown",
   "metadata": {
    "pycharm": {
     "name": "#%% md\n"
    }
   },
   "source": [
    "# Example analysis plot (outdated)"
   ]
  },
  {
   "cell_type": "code",
   "execution_count": null,
   "metadata": {
    "pycharm": {
     "name": "#%%\n"
    }
   },
   "outputs": [],
   "source": [
    "import pandas as pd\n",
    "import matplotlib.pyplot as plt\n",
    "import seaborn as sns\n",
    "import numpy as np\n",
    "import os\n",
    "import torch\n",
    "import PIL\n",
    "from torchvision.transforms import Resize"
   ]
  },
  {
   "cell_type": "code",
   "execution_count": null,
   "metadata": {
    "pycharm": {
     "name": "#%%\n"
    }
   },
   "outputs": [],
   "source": [
    "def get_l2(feats):\n",
    "    feats = torch.tensor(feats)\n",
    "    feats = feats.to(device=\"cuda:0\")\n",
    "    kto0_l2 = (feats[[0],:,:] - feats).norm(dim=-1).mean(dim=-1).detach().cpu().numpy()\n",
    "    N=1000\n",
    "    ids = torch.randperm(10000)[:N]\n",
    "    feats = feats.transpose(0,1)[ids].transpose(0,1)\n",
    "    ref_l2 = []\n",
    "    for x in feats:\n",
    "        ref_l2.append((x[None, :, :] - x[:,None, :]).norm(dim=-1))\n",
    "    ref_l2 = torch.stack(ref_l2)\n",
    "    ref_l2_mean = ref_l2.mean()#.mul(1+1/N)\n",
    "    ref_l2_std = ref_l2.std()\n",
    "    return kto0_l2, ref_l2_mean.cpu().numpy(), ref_l2_std.cpu().numpy()\n",
    "\n",
    "\n",
    "def get_cos(feats):\n",
    "    feats = torch.tensor(feats)\n",
    "    feats = feats.to(device=\"cuda:0\")\n",
    "    kto0_cos = (feats[[0],:,:] * feats).sum(dim=-1).div(feats[[0],:,:].norm(dim=-1)).div(feats.norm(dim=-1)).mean(dim=-1).detach().cpu().numpy()\n",
    "    N=1000\n",
    "    ids = torch.randperm(10000)[:N]\n",
    "    feats = feats.transpose(0,1)[ids].transpose(0,1)\n",
    "    ref_cos = []\n",
    "    for x in feats:\n",
    "        ref_cos.append((x[None, :, :] * x[:,None, :]).sum(dim=-1) \\\n",
    "                       .div(x.pow(2).sum(dim=-1)))\n",
    "    ref_cos = torch.stack(ref_cos)\n",
    "    ref_cos_mean = ref_cos.mean() #.masked_fill(torch.eye(N, device=x.device, dtype=bool), 0).mean().mul(1+1/N).detach().cpu().numpy())\n",
    "    ref_cos_std = ref_cos.std()\n",
    "\n",
    "    return kto0_cos, ref_cos_mean.cpu().numpy(), ref_cos_std.cpu().numpy()"
   ]
  },
  {
   "cell_type": "code",
   "execution_count": null,
   "metadata": {
    "pycharm": {
     "name": "#%%\n"
    }
   },
   "outputs": [],
   "source": [
    "from vissl.data.ssl_transforms.compvits import CompMasking\n",
    "cms = {\n",
    "    \"cm_54_54_108_0\": [[[9,6], [6,9]], [[9,6], [6,9]]],\n",
    "    \"cm_72_36_108_0\": [[[8,9], [9,8], [12,6], [6,12]], [[6,6], [4,9], [9,4], [12, 3], [3, 12]]],\n",
    "    \"cm_72_72_144_0\": [[[8,9], [9,8], [6,12], [12,6]], [[8,9], [9,8], [6,12], [12,6]]],\n",
    "    \"cm_96_48_144_0\": [[[8,12], [12,8]], [[8,6], [6,8], [4,12], [12,4]]],\n",
    "    \"cm_98_98_196_0\": [[[14,7], [7,14]], [[14,7],[7,14]]],\n",
    "    \"cm_140_56_196_0\": [[[14,10], [10,14]], [[14,4],[4,14]]],\n",
    "}\n",
    "resize = Resize(224)\n"
   ]
  },
  {
   "cell_type": "code",
   "execution_count": null,
   "metadata": {
    "pycharm": {
     "name": "#%%\n"
    }
   },
   "outputs": [],
   "source": [
    "def plot(dir, cm, model, axs):\n",
    "    nn = pd.read_csv(os.path.join(dir, \"nearest_neighbor.csv\"))\n",
    "    tl = pd.read_csv(os.path.join(dir, \"test_linear.csv\"))\n",
    "    feats = np.load(os.path.join(dir, \"feats.npy\"))\n",
    "    sns.lineplot(nn,x=range(0,len(nn)), y=\"top10_acc1\", ax=axs[0][0], label=\"k=10\")\n",
    "    sns.lineplot(nn,x=range(0,len(nn)), y=\"top20_acc1\", ax=axs[0][0], label=\"k=20\")\n",
    "    sns.lineplot(nn,x=range(0,len(nn)), y=\"top100_acc1\", ax=axs[0][0], label=\"k=100\")\n",
    "    sns.lineplot(nn,x=range(0,len(nn)), y=\"top200_acc1\", ax=axs[0][0], label=\"k=200\")\n",
    "    axs[0][0].set_title(\"knn evaluation\")\n",
    "    axs[0][0].set_ylabel(\"Top1 Acc\")\n",
    "    #axs[0][0].set_xlabel(\"K\")\n",
    "    sns.lineplot(tl,x=range(0,len(tl)), y=\"test_accuracy_list_meter.top_1.cls1_evalmlp\", ax=axs[0][1]   , label=\"cls1_evalmlp\")\n",
    "    sns.lineplot(tl,x=range(0,len(tl)), y=\"test_accuracy_list_meter.top_1.cls1_mlp\", ax=axs[0][1]       , label=\"cls1_mlp\")\n",
    "    sns.lineplot(tl,x=range(0,len(tl)), y=\"test_accuracy_list_meter.top_1.cls4_evalmlp\", ax=axs[0][1]   , label=\"cls4_evalmlp\")\n",
    "    sns.lineplot(tl,x=range(0,len(tl)), y=\"test_accuracy_list_meter.top_1.cls4_mlp\", ax=axs[0][1]       , label=\"cls4_mlp\")\n",
    "    axs[0][1].set_title(\"linear evaluation\")\n",
    "    axs[0][1].set_ylabel(\"Top1 Acc\")\n",
    "    #axs[0][1].set_xlabel(\"K\")\n",
    "    l2, ref_l2_mean, ref_l2_std = get_l2(feats)\n",
    "    sns.lineplot(x=range(0,9), y=l2, ax=axs[1][0])\n",
    "    sns.lineplot(x=range(0,9), y=ref_l2_mean, ax=axs[1][0])\n",
    "    axs[1][0].fill_between(x = range(9), y1=(ref_l2_mean - 1*ref_l2_std), y2=(ref_l2_mean + 1*ref_l2_std), alpha=0.1, color=\"red\")\n",
    "    axs[1][0].fill_between(x = range(9), y1=(ref_l2_mean - 2*ref_l2_std), y2=(ref_l2_mean + 2*ref_l2_std), alpha=0.1, color=\"red\")\n",
    "    axs[1][0].fill_between(x = range(9), y1=(ref_l2_mean - 3*ref_l2_std), y2=(ref_l2_mean + 3*ref_l2_std), alpha=0.1, color=\"red\")\n",
    "    axs[1][0].set_title(\"similarity to original feature\")\n",
    "    axs[1][0].set_ylabel(\"L2 dist\")\n",
    "    axs[1][0].set_xlabel(\"K\")\n",
    "    cos, ref_cos_mean, ref_cos_std = get_cos(feats)\n",
    "    sns.lineplot(x=range(0,9), y=cos, ax=axs[1][1])\n",
    "    sns.lineplot(x=range(0,9), y=ref_cos_mean, ax=axs[1][1])\n",
    "    axs[1][1].fill_between(x = range(9), y1=(ref_cos_mean - 1*ref_cos_std).clip(0,1), y2=(ref_cos_mean + 1*ref_cos_std).clip(0,1), alpha=0.1, color=\"red\")\n",
    "    axs[1][1].fill_between(x = range(9), y1=(ref_cos_mean - 2*ref_cos_std).clip(0,1), y2=(ref_cos_mean + 2*ref_cos_std).clip(0,1), alpha=0.1, color=\"red\")\n",
    "    axs[1][1].fill_between(x = range(9), y1=(ref_cos_mean - 3*ref_cos_std).clip(0,1), y2=(ref_cos_mean + 3*ref_cos_std).clip(0,1), alpha=0.1, color=\"red\")\n",
    "    axs[1][1].set_title(\"similarity to original feature\")\n",
    "    axs[1][1].set_ylabel(\"cos similarity\")\n",
    "    axs[1][1].set_xlabel(\"K\")\n",
    "\n",
    "    for i in range(2):\n",
    "        for j in range(2):\n",
    "            axs[i][j].set_xticks(range(9))\n",
    "\n",
    "    sampler = CompMasking(masks_shapes=cms[cm]).primary_secondary\n",
    "    sample_x0, sample_x1 = sampler()\n",
    "    #heat_x0, heat_x1 = np.zeros_like(sample_x0, dtype=float), np.zeros_like(sample_x1, dtype=float)\n",
    "    #for _ in range(1000):\n",
    "    #    x, y = sampler()\n",
    "    #    heat_x0 += x\n",
    "    #    heat_x1 += y\n",
    "    #heat_x0 /= 1000\n",
    "    #heat_x1 /= 1000\n",
    "    #sns.heatmap(heat_x0, ax=axs[0][2])\n",
    "    #sns.heatmap(heat_x1, ax=axs[0][3])\n",
    "    img = PIL.Image.open(\"cat.jpg\")\n",
    "    img = resize(img)\n",
    "    img = np.array(img)\n",
    "    sample_x0 = np.repeat(np.repeat(sample_x0, 16, 0), 16, 1).reshape(224,224,1)\n",
    "    sample_x1 = np.repeat(np.repeat(sample_x1, 16, 0), 16, 1).reshape(224,224,1)\n",
    "    axs[0][2].imshow(img*sample_x0)\n",
    "    axs[0][2].get_yaxis().set_visible(False)\n",
    "    axs[0][2].get_xaxis().set_visible(False)\n",
    "    axs[1][2].imshow(img*sample_x1)\n",
    "    axs[1][2].get_yaxis().set_visible(False)\n",
    "    axs[1][2].get_xaxis().set_visible(False)\n",
    "    "
   ]
  },
  {
   "cell_type": "code",
   "execution_count": null,
   "metadata": {
    "pycharm": {
     "name": "#%%\n"
    }
   },
   "outputs": [],
   "source": [
    "for root, dirs, files in os.walk(\"data\"):\n",
    "    if len(dirs) == 0:\n",
    "        head = root\n",
    "        head, model = os.path.split(head)\n",
    "        _, cm = os.path.split(head)\n",
    "        if cm != \"cm_98_98_196_0\":\n",
    "            continue\n",
    "        fig, axs = plt.subplots(2, 3, figsize=(12,8))\n",
    "        plot(root, cm, model, axs)\n"
   ]
  },
  {
   "cell_type": "markdown",
   "metadata": {
    "pycharm": {
     "name": "#%% md\n"
    }
   },
   "source": [
    "# Visualize divisions"
   ]
  },
  {
   "cell_type": "code",
   "execution_count": null,
   "metadata": {
    "pycharm": {
     "name": "#%%\n"
    }
   },
   "outputs": [],
   "source": [
    "import matplotlib.pyplot as plt\n",
    "from torchvision.utils import make_grid\n",
    "import torch\n",
    "from compvits.constants import DIVISION_MASKS_14_14"
   ]
  },
  {
   "cell_type": "code",
   "execution_count": null,
   "metadata": {
    "pycharm": {
     "name": "#%%\n"
    }
   },
   "outputs": [],
   "source": [
    "\n",
    "division_masks = DIVISION_MASKS_14_14.copy()"
   ]
  },
  {
   "cell_type": "code",
   "execution_count": null,
   "metadata": {
    "pycharm": {
     "name": "#%%\n"
    }
   },
   "outputs": [],
   "source": [
    "nrow = {2: 1, 3: 1, 4: 2, 6: 2, 8: 2, 9: 3, 12:4, 16: 4}\n",
    "img_grids = {k: make_grid([torch.Tensor(mask).repeat(3,1,1) for mask in division_masks[k][1]], nrow=nrow[k], pad_value=0.5) for k in division_masks}"
   ]
  },
  {
   "cell_type": "code",
   "execution_count": null,
   "metadata": {
    "pycharm": {
     "name": "#%%\n"
    }
   },
   "outputs": [],
   "source": [
    "plt.imshow(img_grids[8].permute(1,2,0))"
   ]
  }
 ],
 "metadata": {
  "kernelspec": {
   "display_name": "vissl",
   "language": "python",
   "name": "python3"
  },
  "language_info": {
   "codemirror_mode": {
    "name": "ipython",
    "version": 3
   },
   "file_extension": ".py",
   "mimetype": "text/x-python",
   "name": "python",
   "nbconvert_exporter": "python",
   "pygments_lexer": "ipython3",
   "version": "3.8.17"
  },
  "orig_nbformat": 4
 },
 "nbformat": 4,
 "nbformat_minor": 2
}